{
 "cells": [
  {
   "cell_type": "code",
   "execution_count": 7,
   "metadata": {},
   "outputs": [],
   "source": [
    "import random\n",
    "import threading\n",
    "import time\n",
    "\n",
    "def worker(name):\n",
    "    for i in range(5):\n",
    "        print(f\"{name} - Contador: {i + 1}\")\n",
    "        time.sleep(random.randint(1, 3))\n",
    "    print(f\"{name} - Completado\")"
   ]
  },
  {
   "cell_type": "markdown",
   "metadata": {},
   "source": [
    "Aplicacion main para ejecucion de hilos"
   ]
  },
  {
   "cell_type": "code",
   "execution_count": 3,
   "metadata": {},
   "outputs": [
    {
     "name": "stdout",
     "output_type": "stream",
     "text": [
      "Hilo 1 - Contador: 1\n",
      "Hilo 2 - Contador: 1\n",
      "Hilo 3 - Contador: 1\n",
      "Hilo 2 - Contador: 2\n",
      "Hilo 1 - Contador: 2\n",
      "Hilo 3 - Contador: 2\n",
      "Hilo 1 - Contador: 3\n",
      "Hilo 2 - Contador: 3\n",
      "Hilo 1 - Contador: 4\n",
      "Hilo 3 - Contador: 3\n",
      "Hilo 2 - Contador: 4\n",
      "Hilo 2 - Contador: 5\n",
      "Hilo 1 - Contador: 5\n",
      "Hilo 3 - Contador: 4\n",
      "Hilo 2 - Contador: 6\n",
      "Hilo 3 - Contador: 5\n",
      "Hilo 1 - Contador: 6\n",
      "Hilo 2 - Contador: 7\n",
      "Hilo 3 - Contador: 6\n",
      "Hilo 1 - Contador: 7\n",
      "Hilo 2 - Contador: 8\n",
      "Hilo 3 - Contador: 7\n",
      "Hilo 2 - Contador: 9\n",
      "Hilo 1 - Contador: 8\n",
      "Hilo 1 - Contador: 9\n",
      "Hilo 3 - Contador: 8\n",
      "Hilo 2 - Contador: 10\n",
      "Hilo 1 - Contador: 10\n",
      "Hilo 3 - Contador: 9\n",
      "Hilo 3 - Contador: 10\n",
      "Hilo 2 - Completado\n",
      "Hilo 1 - Completado\n",
      "Hilo 3 - Completado\n",
      "Hilos completados\n"
     ]
    }
   ],
   "source": [
    "def main():\n",
    "    # Crear hilos\n",
    "    t1 = threading.Thread(target=worker, args=(\"Hilo 1\",))\n",
    "    t2 = threading.Thread(target=worker, args=(\"Hilo 2\",))\n",
    "    t3 = threading.Thread(target=worker, args=(\"Hilo 3\",))\n",
    "\n",
    "    # Iniciar hilos\n",
    "    t1.start()\n",
    "    t2.start()\n",
    "    t3.start()\n",
    "\n",
    "    # Esperar a que los hilos terminen\n",
    "    t1.join()\n",
    "    t2.join()\n",
    "    t3.join()\n",
    "\n",
    "    print(\"Hilos completados\")\n",
    "\n",
    "if __name__ == \"__main__\":\n",
    "    main()\n"
   ]
  },
  {
   "cell_type": "code",
   "execution_count": 8,
   "metadata": {},
   "outputs": [
    {
     "name": "stdout",
     "output_type": "stream",
     "text": [
      "Hilo 1 - Contador: 1\n",
      "Hilo 2 - Contador: 1\n",
      "Hilo 3 - Contador: 1\n",
      "Hilo 2 - Contador: 2\n",
      "Hilo 1 - Contador: 2\n",
      "Hilo 3 - Contador: 2\n",
      "Hilo 2 - Contador: 3\n",
      "Hilo 3 - Contador: 3\n",
      "Hilo 1 - Contador: 3\n",
      "Hilo 2 - Contador: 4\n",
      "Hilo 1 - Contador: 4\n",
      "Hilo 2 - Contador: 5\n",
      "Hilo 3 - Contador: 4\n",
      "Hilo 1 - Contador: 5\n",
      "Hilo 2 - Completado\n",
      "Hilo 1 - Completado\n",
      "Hilo 3 - Contador: 5\n",
      "Hilo 3 - Completado\n",
      "Hilos completados\n"
     ]
    }
   ],
   "source": [
    "main()"
   ]
  }
 ],
 "metadata": {
  "kernelspec": {
   "display_name": "Python 3",
   "language": "python",
   "name": "python3"
  },
  "language_info": {
   "codemirror_mode": {
    "name": "ipython",
    "version": 3
   },
   "file_extension": ".py",
   "mimetype": "text/x-python",
   "name": "python",
   "nbconvert_exporter": "python",
   "pygments_lexer": "ipython3",
   "version": "3.12.4"
  }
 },
 "nbformat": 4,
 "nbformat_minor": 2
}
